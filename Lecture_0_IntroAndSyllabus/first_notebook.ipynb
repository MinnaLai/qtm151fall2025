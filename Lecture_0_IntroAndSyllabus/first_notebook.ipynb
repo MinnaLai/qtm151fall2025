{
 "cells": [
  {
   "cell_type": "markdown",
   "id": "32861647",
   "metadata": {},
   "source": [
    "<font size=\"10\"> This is my first Jupyter notebook "
   ]
  },
  {
   "cell_type": "code",
   "execution_count": 3,
   "id": "4ab64dab",
   "metadata": {},
   "outputs": [
    {
     "name": "stdout",
     "output_type": "stream",
     "text": [
      "My name is Minna Lai\n"
     ]
    }
   ],
   "source": [
    "print (\"My name is Minna Lai\")"
   ]
  }
 ],
 "metadata": {
  "kernelspec": {
   "display_name": "base",
   "language": "python",
   "name": "python3"
  },
  "language_info": {
   "codemirror_mode": {
    "name": "ipython",
    "version": 3
   },
   "file_extension": ".py",
   "mimetype": "text/x-python",
   "name": "python",
   "nbconvert_exporter": "python",
   "pygments_lexer": "ipython3",
   "version": "3.13.5"
  }
 },
 "nbformat": 4,
 "nbformat_minor": 5
}
